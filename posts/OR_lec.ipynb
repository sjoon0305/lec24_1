{
 "cells": [
  {
   "cell_type": "raw",
   "id": "eb614717-a31b-44fa-8b16-f31a1213a63c",
   "metadata": {},
   "source": [
    "---\n",
    "title: \"1주차 OR 특론\"\n",
    "author: \"유성준\"\n",
    "date: \"03/05/2024\"\n",
    "categories: [Mathmatical modeling]\n",
    "---"
   ]
  },
  {
   "cell_type": "markdown",
   "id": "d73f26a8-6a10-4f4d-aeae-2e01383e0579",
   "metadata": {},
   "source": [
    "# Week 1 lecture"
   ]
  },
  {
   "cell_type": "markdown",
   "id": "7eead179-8d7c-4c27-93f6-31c258c92583",
   "metadata": {},
   "source": [
    "OR(operations research): 조직의 설계, 운영, 관리에 관한 의사결정"
   ]
  },
  {
   "cell_type": "markdown",
   "id": "43143362-df37-49a3-a232-424419d323be",
   "metadata": {},
   "source": [
    "- 문제의 정의를 중점적으로 접근"
   ]
  },
  {
   "cell_type": "markdown",
   "id": "cae814d6-03fb-4d6c-b4a8-40a987c4f624",
   "metadata": {},
   "source": [
    "## 1차 산업혁명"
   ]
  },
  {
   "cell_type": "markdown",
   "id": "f00e78d8-d026-4b31-b60a-aa1dfa7d2240",
   "metadata": {},
   "source": [
    "- 소비자 중심, 대규모 생산, 생산성 향상"
   ]
  },
  {
   "cell_type": "markdown",
   "id": "a471b61f-c457-46c9-8f65-d8c60ac511d9",
   "metadata": {},
   "source": [
    "## 2차 세계대전 후\n",
    "- 전쟁중 발전된 수리적 모형과 응용방법에 대한 연구\n",
    "- 재고관리, 기계유지보수, 관리...\n",
    "- 실용성: 이론적 발전, 컴퓨터 성능 향상"
   ]
  },
  {
   "cell_type": "markdown",
   "id": "28b3fcfb-9aa6-42c5-bce7-19e31a7b5577",
   "metadata": {},
   "source": [
    "- 전략적수준: 공급사슬 설계 ex) 각 단계의 프로세스\n",
    "- 전술적수준: 중단기적 운영 계획 ex) 총괄생산계획\n",
    "- 운영적수준: 상세한 작업 일정계획 ex) 고객만족, 일정계획 등"
   ]
  },
  {
   "cell_type": "markdown",
   "id": "d2f646b8-8b3a-45c1-a57b-da280ff3a290",
   "metadata": {},
   "source": [
    "1. 문제정의, 데이터수집\n",
    "2. 수리적 모델링\n",
    "3. 과정 개발\n",
    "4. 모델을 평가, 재정의\n",
    "5. 구현"
   ]
  },
  {
   "cell_type": "markdown",
   "id": "549b1754-7d56-4b50-8fca-34c4ca1f115e",
   "metadata": {},
   "source": [
    "## Optimization Problem"
   ]
  },
  {
   "cell_type": "markdown",
   "id": "838d6bd0-0812-4bed-8851-c196e43fe0c4",
   "metadata": {},
   "source": [
    "가용자원이 제한된 상황에서 최적의 답을 도출"
   ]
  },
  {
   "cell_type": "markdown",
   "id": "27af46a0-6483-455d-bf51-e875fecc8a83",
   "metadata": {},
   "source": [
    "## Mathmatical model\n",
    "- decision variable: 실제로 사용할 대상을 변수로 표현\n",
    "- objective funcion(목적 함수): 문제해결을 위한 목적함수\n",
    "- contraints: 제약 조건, ex) cost function, loss function\n",
    "- parameter: 초기 설정값"
   ]
  },
  {
   "cell_type": "markdown",
   "id": "59476adf-9509-400c-ae7c-1b04830f68b8",
   "metadata": {},
   "source": [
    "- 최적해(optimal solution): 최적해\n",
    "- 실행가능해(feasible solution): 제약조건을 만족하는해\n",
    "- what if 옵션"
   ]
  },
  {
   "cell_type": "markdown",
   "id": "8d7c8ce9-bd57-460e-9ce0-81605fbece1a",
   "metadata": {},
   "source": [
    "> 03/12 수업은 휴강!!! 개꿀입니다"
   ]
  },
  {
   "cell_type": "markdown",
   "id": "30d65ded-3ae9-4e62-b27f-e11e11f37fa4",
   "metadata": {},
   "source": []
  },
  {
   "cell_type": "markdown",
   "id": "4d9ff15e-18f1-4199-be6e-eb8284ef5eef",
   "metadata": {},
   "source": []
  },
  {
   "cell_type": "markdown",
   "id": "fc7ab7c5-05a0-42cd-b415-72055b38a0b0",
   "metadata": {},
   "source": []
  },
  {
   "cell_type": "markdown",
   "id": "4bc9db43-6799-4afd-872e-593c0e6558da",
   "metadata": {},
   "source": []
  },
  {
   "cell_type": "markdown",
   "id": "fa25be26-c31f-4bbe-aa22-65701b3304f4",
   "metadata": {},
   "source": []
  },
  {
   "cell_type": "markdown",
   "id": "4395eb74-80e2-4a8c-aa29-44a8dd31199f",
   "metadata": {},
   "source": []
  },
  {
   "cell_type": "markdown",
   "id": "24832cbe-3654-46c9-a412-64a50680333e",
   "metadata": {},
   "source": []
  },
  {
   "cell_type": "markdown",
   "id": "b3695792-d57a-447f-ad8e-7dd78bd69be8",
   "metadata": {},
   "source": []
  },
  {
   "cell_type": "markdown",
   "id": "79e3e99e-fc9a-438e-933d-9fe867d502df",
   "metadata": {},
   "source": []
  },
  {
   "cell_type": "markdown",
   "id": "a169a488-d857-45c2-a3a9-ac0453d879e6",
   "metadata": {},
   "source": []
  },
  {
   "cell_type": "markdown",
   "id": "ba85a476-1f57-4f9f-8593-ac801dc33dc5",
   "metadata": {},
   "source": []
  },
  {
   "cell_type": "markdown",
   "id": "2d6bdce5-f2e9-495d-86e1-8e2ab3715ab7",
   "metadata": {},
   "source": []
  },
  {
   "cell_type": "markdown",
   "id": "3aa2dc11-25e8-4f00-8937-44ba62442200",
   "metadata": {},
   "source": []
  },
  {
   "cell_type": "markdown",
   "id": "9ac0cf4b-87f6-4c3a-b2c6-db449c689528",
   "metadata": {},
   "source": []
  },
  {
   "cell_type": "markdown",
   "id": "0c63ee6b-a6d3-4368-89e3-db896488d763",
   "metadata": {},
   "source": []
  },
  {
   "cell_type": "markdown",
   "id": "122013e3-1817-42ae-be99-82585138806d",
   "metadata": {},
   "source": []
  }
 ],
 "metadata": {
  "kernelspec": {
   "display_name": "Python 3 (ipykernel)",
   "language": "python",
   "name": "python3"
  },
  "language_info": {
   "codemirror_mode": {
    "name": "ipython",
    "version": 3
   },
   "file_extension": ".py",
   "mimetype": "text/x-python",
   "name": "python",
   "nbconvert_exporter": "python",
   "pygments_lexer": "ipython3",
   "version": "3.10.13"
  }
 },
 "nbformat": 4,
 "nbformat_minor": 5
}
