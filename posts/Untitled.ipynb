{
 "cells": [
  {
   "cell_type": "markdown",
   "id": "75c453bd-f16a-4e11-a17f-5b7828ec0cd5",
   "metadata": {},
   "source": [
    "# 랩 세미나"
   ]
  },
  {
   "cell_type": "markdown",
   "id": "b112fd6f-4af5-400e-bad5-5af7d9f2c96e",
   "metadata": {},
   "source": [
    "- 결과물을 조금 정리하고 피드백을 받고 학회가서 발표하기 위함\n",
    "- 완성된 결과물을 표현하는 것이 좋을것이다.\n",
    "- 공부하고 있는거 정리하는건(처음에만)\n",
    "- "
   ]
  },
  {
   "cell_type": "markdown",
   "id": "34cd3e7f-6c54-41ab-b5a5-6f87148de8a7",
   "metadata": {},
   "source": [
    "3/13 김태진 교수님의 발표\n",
    "1. 목차"
   ]
  },
  {
   "cell_type": "markdown",
   "id": "b01d082e-764a-45fd-916a-94ca1192f1a9",
   "metadata": {},
   "source": [
    "### 1. 디지털 트윈\n",
    "- 디지털 모델 / 물리적 모델\n",
    "- 디지털 모델을 만드는ㄴ 것이 중점"
   ]
  },
  {
   "cell_type": "markdown",
   "id": "fff0bf1e-c6b1-41ec-9efd-c7b1e9b4b4f1",
   "metadata": {},
   "source": [
    "#### 기존의 모델\n",
    "- 실시간성이 중요하지만 기존의 모델들을 너무 무겁다는게 단점\n",
    "- 기존은 유한요소, 스트레스 해석 등등의 방식을 사용해왔다.\n",
    "- FEM(Finite element method)\n",
    "- 정확하지만 계산 시간이 상당히 오래걸린다\n",
    "- 방정식을 손으로 푸는것과 같은 원리"
   ]
  },
  {
   "cell_type": "markdown",
   "id": "fae5b174-f65e-4a30-a52c-0205c9c4a66f",
   "metadata": {},
   "source": [
    "#### ROM\n",
    "- 다중 모델"
   ]
  },
  {
   "cell_type": "markdown",
   "id": "0f24d06d-4ff2-48ed-af8a-22fde4442d4d",
   "metadata": {},
   "source": [
    "#### 딥러닝\n",
    "- 학습시키는데 오래 걸리지만 정확하고 학습 후 계산이 빠르다\n",
    "- 자기만의 방식으로 해를 구하는 방법을 찾아낸다. ex) 근의 공식처럼 자기만의 방법을 찾음\n",
    "- 데이터가 부족할때:\n",
    "    1. 데이터 변형\n",
    "    2. transfer learning 등등"
   ]
  },
  {
   "cell_type": "markdown",
   "id": "8c310ffa-6511-4f2c-9d69-717b34d8743c",
   "metadata": {},
   "source": [
    "## 인공신경망"
   ]
  },
  {
   "cell_type": "markdown",
   "id": "70030d2b-2561-48f1-9248-6dacfea8292d",
   "metadata": {},
   "source": [
    "- 데이터가 필요하지 않다!!!"
   ]
  },
  {
   "cell_type": "markdown",
   "id": "97ba0a81-cb90-47ef-b551-bfc1511d4cbf",
   "metadata": {},
   "source": [
    "- 유한요소 목적은?\n",
    "    - 자연현상을 수학적으로 모델링\n",
    "    - 편미분방정식을 푸는것이 기본 원리\n",
    "    - 편미분 방정식, 경계 조건, 초기 값"
   ]
  },
  {
   "cell_type": "markdown",
   "id": "2c00c4be-cd50-4fa2-b01e-8881c8dcd732",
   "metadata": {},
   "source": [
    "- 기존은 데이터를 가지고 일치도가 높으면 좋은거 낮으면 나쁜거라고 학습을 해간다. -> l.f의 판단 기준\n",
    "- PINN은 지배 방정식 자체에 좋고 나쁨의 척도가 된다."
   ]
  },
  {
   "cell_type": "markdown",
   "id": "e3102043-b791-4614-a6ac-3dc3ae132dbe",
   "metadata": {},
   "source": [
    "## PINN의 목적"
   ]
  },
  {
   "cell_type": "markdown",
   "id": "9ee3a6e3-7b59-4a1a-a491-cb4429fbabb7",
   "metadata": {},
   "source": [
    "- 복잡한 시스템의 지배 방정식의 해를 구하는데 목적이 있다\n",
    "- 지배 방정식=Loss Func ? Loss Func이 0에 가까우면 좋은 모델\n",
    "- \n",
    "- 기존 모델에서의 로스와 편미분 방정식의 로스의 합으로 전체 로스 펑션이 된다\n",
    "- "
   ]
  },
  {
   "cell_type": "markdown",
   "id": "3e5520b6-523d-4014-9453-1be96ad5cdba",
   "metadata": {},
   "source": [
    "![image.png](attachment:33be149c-47a2-47bb-9328-cfd0332b10f2.png)"
   ]
  },
  {
   "cell_type": "code",
   "execution_count": null,
   "id": "d291e3f2-fabf-468a-9f8d-320708d9407b",
   "metadata": {},
   "outputs": [],
   "source": []
  }
 ],
 "metadata": {
  "kernelspec": {
   "display_name": "Python 3 (ipykernel)",
   "language": "python",
   "name": "python3"
  },
  "language_info": {
   "codemirror_mode": {
    "name": "ipython",
    "version": 3
   },
   "file_extension": ".py",
   "mimetype": "text/x-python",
   "name": "python",
   "nbconvert_exporter": "python",
   "pygments_lexer": "ipython3",
   "version": "3.10.13"
  }
 },
 "nbformat": 4,
 "nbformat_minor": 5
}
